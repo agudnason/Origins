{
 "cells": [
  {
   "cell_type": "code",
   "execution_count": 1,
   "metadata": {},
   "outputs": [],
   "source": [
    "import random\n"
   ]
  },
  {
   "cell_type": "code",
   "execution_count": 86,
   "metadata": {},
   "outputs": [],
   "source": [
    "noun = [\n",
    "    'the earth',\n",
    "    'the world',\n",
    "    'the universe',\n",
    "    'humanity',\n",
    "    'life',\n",
    "    'creation',\n",
    "    'man',\n",
    "    'woman',\n",
    "]"
   ]
  },
  {
   "cell_type": "code",
   "execution_count": 81,
   "metadata": {},
   "outputs": [],
   "source": [
    "beginnings = [\n",
    "    'beginning',\n",
    "    'origin',\n",
    "    'start',\n",
    "    'creation',\n",
    "    'dawning',\n",
    "    'birth',\n",
    "    'onset',\n",
    "]"
   ]
  },
  {
   "cell_type": "code",
   "execution_count": 82,
   "metadata": {},
   "outputs": [],
   "source": [
    "formal_time_units = [\n",
    "    \"nanosecond\",\n",
    "    \"microsecond\",\n",
    "    \"millisecond\",\n",
    "    \"second\",\n",
    "    \"minute\",\n",
    "    \"hour\",\n",
    "    \"day\",\n",
    "    \"week\",\n",
    "    \"month\",\n",
    "    \"year\",\n",
    "    \"decade\",\n",
    "    \"century\",\n",
    "    \"millenium\",\n",
    "    \"moment\",\n",
    "    \"a bit\"\n",
    "  ]"
   ]
  },
  {
   "cell_type": "code",
   "execution_count": 100,
   "metadata": {},
   "outputs": [],
   "source": [
    "subject = [\n",
    "    'a woman',\n",
    "    'a turtle',\n",
    "    'a tiger',\n",
    "    'a man',\n",
    "    'God',\n",
    "    'a bird'\n",
    "]"
   ]
  },
  {
   "cell_type": "code",
   "execution_count": 84,
   "metadata": {},
   "outputs": [],
   "source": [
    "action = [\n",
    "    'created',\n",
    "    'built',\n",
    "    'made',\n",
    "    'formed',\n",
    "    'designed',\n",
    "    'invented',\n",
    "    'generated',\n",
    "    'conceived',\n",
    "    'formed',\n",
    "    'produced',\n",
    "    'fabricated',\n",
    "    'imagined',\n",
    "    'shaped',\n",
    "    'constructed',\n",
    "    'discovered',\n",
    "    'established',\n",
    "    \n",
    "]"
   ]
  },
  {
   "cell_type": "code",
   "execution_count": 181,
   "metadata": {},
   "outputs": [],
   "source": [
    "white_space = [\n",
    "    ' ',\n",
    "    '  ',\n",
    "    '    ',\n",
    "    '      ',\n",
    "    '        ',\n",
    "    '          ',\n",
    "    '            ',\n",
    "    '             ',\n",
    "    '               '\n",
    "]"
   ]
  },
  {
   "cell_type": "code",
   "execution_count": 196,
   "metadata": {},
   "outputs": [
    {
     "name": "stdout",
     "output_type": "stream",
     "text": [
      "\n",
      "        In the\n",
      "             creation        of\n",
      "time for a\n",
      "        minute\n",
      "               there               was\n",
      "a bird             \n",
      "who    produced\n",
      "             man\n"
     ]
    }
   ],
   "source": [
    "    print()\n",
    "    print(random.choice(white_space) + \"In the\")\n",
    "    print(random.choice(white_space) + random.choice(beginnings) +random.choice(white_space)+\"of\")\n",
    "    print(\"time\" + random.choice(white_space)+\"for a\")\n",
    "    print(random.choice(white_space) + random.choice(formal_time_units))\n",
    "    print(random.choice(white_space)+ \"there\" + random.choice(white_space) + \"was\")\n",
    "    print(random.choice(subject) + random.choice(white_space))\n",
    "    print(\"who\" + random.choice(white_space) + random.choice(action))\n",
    "    print(random.choice(white_space)+ random.choice(noun))\n",
    "\n",
    "    "
   ]
  },
  {
   "cell_type": "code",
   "execution_count": 164,
   "metadata": {},
   "outputs": [
    {
     "name": "stdout",
     "output_type": "stream",
     "text": [
      "\n",
      "       In the \n",
      "     dawning       of\n",
      "   time              for a\n",
      "month   there\n",
      "   was         God\n",
      "      who    constructed\n",
      "      humanity\n"
     ]
    }
   ],
   "source": [
    "    print()\n",
    "    print(\"       In the \")\n",
    "    print(\"     \" + random.choice(beginnings) +\"       of\")\n",
    "    print(\"   time\" + \"              for a\")\n",
    "    print(random.choice(formal_time_units) + \"   there\")\n",
    "    print(\"   was         \" + random.choice(subject))\n",
    "    print(\"      who    \" + random.choice(action))\n",
    "    print( \"      \" + random.choice(noun) )"
   ]
  },
  {
   "cell_type": "code",
   "execution_count": 174,
   "metadata": {},
   "outputs": [
    {
     "name": "stdout",
     "output_type": "stream",
     "text": [
      "\n",
      "          In the \n",
      "   start       of\n",
      "  time              for a\n",
      "milleniummoment          there\n",
      "    was         a bird\n",
      "      who      imagined\n",
      "       creation.\n"
     ]
    }
   ],
   "source": [
    "    print()\n",
    "    print(\"          In the \")\n",
    "    print(\"   \" + random.choice(beginnings) +\"       of\")\n",
    "    print(\"  time\" + \"              for a\")\n",
    "    print(random.choice(formal_time_units) + \"          there\")\n",
    "    print(\"    was         \" + random.choice(subject))\n",
    "    print(\"      who      \" + random.choice(action))\n",
    "    print( \"       \" + random.choice(noun) +\".\" )"
   ]
  },
  {
   "cell_type": "code",
   "execution_count": null,
   "metadata": {},
   "outputs": [],
   "source": []
  }
 ],
 "metadata": {
  "kernelspec": {
   "display_name": "Python 3",
   "language": "python",
   "name": "python3"
  },
  "language_info": {
   "codemirror_mode": {
    "name": "ipython",
    "version": 3
   },
   "file_extension": ".py",
   "mimetype": "text/x-python",
   "name": "python",
   "nbconvert_exporter": "python",
   "pygments_lexer": "ipython3",
   "version": "3.6.5"
  }
 },
 "nbformat": 4,
 "nbformat_minor": 2
}
